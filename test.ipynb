{
 "cells": [
  {
   "cell_type": "code",
   "execution_count": 1,
   "metadata": {},
   "outputs": [],
   "source": [
    "import torch\n",
    "import torch.nn as nn"
   ]
  },
  {
   "cell_type": "code",
   "execution_count": 2,
   "metadata": {},
   "outputs": [],
   "source": [
    "def normalize(x):\n",
    "    mean = x.mean(dim=-1, keepdim=True)\n",
    "    std = x.std(dim=-1, keepdim=True)\n",
    "    return (x - mean) / (std + 1e-6)"
   ]
  },
  {
   "cell_type": "code",
   "execution_count": 3,
   "metadata": {},
   "outputs": [],
   "source": [
    "def causal_dot_product(queries: torch.Tensor, keys: torch.Tensor, values: torch.Tensor) -> torch.Tensor:\n",
    "    B, num_heads, T, head_size = queries.shape\n",
    "    \n",
    "    # Initialize the output tensor\n",
    "    product = torch.zeros((B, num_heads, T, head_size), device=queries.device, dtype=queries.dtype)\n",
    "\n",
    "    for b in range(B):\n",
    "        for h in range(num_heads):\n",
    "            kv = torch.zeros((head_size, head_size), device=queries.device, dtype=queries.dtype)  # Accumulator for key-value product\n",
    "            for t in range(T):\n",
    "                # Update kv with the outer product of keys and values\n",
    "                kv += torch.outer(keys[b, h, t], values[b, h, t])  # Correctly compute outer product\n",
    "                # Compute the dot product of the query and the accumulated kv\n",
    "                product[b, h, t] = torch.matmul(queries[b, h, t], kv)\n",
    "\n",
    "    return product\n"
   ]
  },
  {
   "cell_type": "code",
   "execution_count": 4,
   "metadata": {},
   "outputs": [],
   "source": [
    "class Kernel(nn.Module):\n",
    "    def __init__(self, hidden_dim):\n",
    "        super(Kernel, self).__init__()\n",
    "\n",
    "        self.gamma = nn.Parameter(torch.rand(hidden_dim))\n",
    "        self.beta = nn.Parameter(torch.rand(hidden_dim))\n",
    "        \n",
    "    def forward(self, x):\n",
    "        return (self.gamma * x + self.beta).square()"
   ]
  },
  {
   "cell_type": "code",
   "execution_count": 14,
   "metadata": {},
   "outputs": [],
   "source": [
    "hidden_dim = 128\n",
    "attn_heads = 8\n",
    "\n",
    "attn = nn.Linear(hidden_dim, 3 * hidden_dim)\n",
    "linear = nn.Linear(hidden_dim, hidden_dim)\n",
    "\n",
    "phiq = Kernel(hidden_dim)\n",
    "phik = Kernel(hidden_dim)"
   ]
  },
  {
   "cell_type": "code",
   "execution_count": 15,
   "metadata": {},
   "outputs": [],
   "source": [
    "def default(kerq, kerk, v, mask):\n",
    "\n",
    "    logits = kerq @ kerk.transpose(-2, -1)\n",
    "    logits = logits.masked_fill(mask[:,:,:v.size(2),:v.size(2)] == 0, 0)\n",
    "    scores = logits / logits.sum(dim=-1, keepdim=True)\n",
    "    out = scores @ v\n",
    "    \n",
    "    return out\n",
    "\n",
    "def matrix(kerq, kerk, v):\n",
    "    \n",
    "    Z = 1/(torch.einsum(\"bhtf,bhtf->bht\", kerq, kerk.cumsum(2)) + 1e-6)\n",
    "    \n",
    "    kv = torch.einsum('bhtf,bhtg->bhtfg', kerk, v).cumsum(dim=2)\n",
    "    out = torch.einsum('bhtf,bhtfg->bhtg', kerq, kv)\n",
    "    out = out * Z[:, :, :, None]\n",
    "    \n",
    "    return out\n",
    "\n",
    "def looped(kerq, kerk, v):\n",
    "\n",
    "    Z = 1/(torch.einsum(\"nlhi,nlhi->nlh\", kerq, kerk.cumsum(2)) + 1e-6)\n",
    "    out = causal_dot_product(kerq, kerk, v) * Z[:, :, :, None]\n",
    "    \n",
    "    return out"
   ]
  },
  {
   "cell_type": "code",
   "execution_count": 37,
   "metadata": {},
   "outputs": [
    {
     "data": {
      "application/vnd.jupyter.widget-view+json": {
       "model_id": "bffccba4efaa4cc1a1ec5c035de204a4",
       "version_major": 2,
       "version_minor": 0
      },
      "text/plain": [
       "  0%|          | 0/6 [00:00<?, ?it/s]"
      ]
     },
     "metadata": {},
     "output_type": "display_data"
    },
    {
     "data": {
      "text/plain": [
       "3403"
      ]
     },
     "execution_count": 37,
     "metadata": {},
     "output_type": "execute_result"
    }
   ],
   "source": [
    "import time\n",
    "from tqdm.notebook import tqdm_notebook as tqdm\n",
    "import gc\n",
    "\n",
    "default_results = []\n",
    "matrix_results = []\n",
    "looped_results = []\n",
    "\n",
    "ns = [1] + list(range(50000, 250000 + 1, 50000))\n",
    "\n",
    "for n in tqdm(ns):\n",
    "    with torch.no_grad():\n",
    "        x = torch.rand(1, n, hidden_dim)\n",
    "        \n",
    "        B, T, C = x.size()\n",
    "\n",
    "        qkv = attn(x)\n",
    "        q, k, v = qkv.split(hidden_dim, dim=2)\n",
    "\n",
    "        kerq = phiq(q)\n",
    "        kerk = phik(k)\n",
    "\n",
    "        kerq = kerq.view(B, T, attn_heads, C // attn_heads).transpose(1, 2)\n",
    "        kerk = kerk.view(B, T, attn_heads, C // attn_heads).transpose(1, 2) \n",
    "        v = v.view(B, T, attn_heads, C // attn_heads).transpose(1, 2)\n",
    "\n",
    "        # mask = torch.tril(torch.ones(n, n)).view(1, 1, n, n)\n",
    "\n",
    "        # start = time.time()\n",
    "        # default(kerq, kerk, v, mask)\n",
    "        # end = time.time()\n",
    "        # default_results.append(end - start)\n",
    "\n",
    "        start = time.time()\n",
    "        matrix(kerq, kerk, v)\n",
    "        end = time.time()\n",
    "        matrix_results.append(end - start)\n",
    "        \n",
    "        # start = time.time()\n",
    "        # looped(kerq, kerk, v)\n",
    "        # end = time.time()\n",
    "        # looped_results.append(end - start)\n",
    "        \n",
    "del x\n",
    "gc.collect()"
   ]
  },
  {
   "cell_type": "code",
   "execution_count": 31,
   "metadata": {},
   "outputs": [
    {
     "data": {
      "text/plain": [
       "66560"
      ]
     },
     "execution_count": 31,
     "metadata": {},
     "output_type": "execute_result"
    }
   ],
   "source": [
    "sum([sum([p.numel() for p in module.parameters()]) for module in [attn, linear, phiq, phik]])"
   ]
  },
  {
   "cell_type": "code",
   "execution_count": 32,
   "metadata": {},
   "outputs": [
    {
     "data": {
      "text/plain": [
       "tensor(3.3351e-05)"
      ]
     },
     "execution_count": 32,
     "metadata": {},
     "output_type": "execute_result"
    }
   ],
   "source": [
    "(matrix(kerq, kerk, v) - looped(kerq, kerk, v)).norm()"
   ]
  },
  {
   "cell_type": "code",
   "execution_count": 33,
   "metadata": {},
   "outputs": [
    {
     "data": {
      "text/plain": [
       "tensor(2.2017e-05)"
      ]
     },
     "execution_count": 33,
     "metadata": {},
     "output_type": "execute_result"
    }
   ],
   "source": [
    "(matrix(kerq, kerk, v) - default(kerq, kerk, v, torch.tril(torch.ones(n, n)).view(1, 1, n, n))).norm()"
   ]
  },
  {
   "cell_type": "code",
   "execution_count": 38,
   "metadata": {},
   "outputs": [
    {
     "data": {
      "image/png": "[encoded data removed]",
      "text/plain": [
       "<Figure size 1000x500 with 1 Axes>"
      ]
     },
     "metadata": {},
     "output_type": "display_data"
    }
   ],
   "source": [
    "import matplotlib.pyplot as plt\n",
    "\n",
    "fig = plt.figure(figsize = (10, 5))\n",
    "# plt.plot(ns, default_results, label = 'Default')\n",
    "plt.plot(ns, matrix_results, label = 'Matrix')\n",
    "# plt.plot(ns, looped_results, label = 'Looped')\n",
    "plt.grid()\n",
    "plt.legend()\n",
    "# plt.yscale('log')\n",
    "plt.show()"
   ]
  },
  {
   "cell_type": "code",
   "execution_count": 10,
   "metadata": {},
   "outputs": [
    {
     "data": {
      "text/plain": [
       "0.029999971389770508"
      ]
     },
     "execution_count": 10,
     "metadata": {},
     "output_type": "execute_result"
    }
   ],
   "source": [
    "matrix_results[0]"
   ]
  },
  {
   "cell_type": "code",
   "execution_count": null,
   "metadata": {},
   "outputs": [],
   "source": []
  }
 ],
 "metadata": {
  "kernelspec": {
   "display_name": "Python 3",
   "language": "python",
   "name": "python3"
  },
  "language_info": {
   "codemirror_mode": {
    "name": "ipython",
    "version": 3
   },
   "file_extension": ".py",
   "mimetype": "text/x-python",
   "name": "python",
   "nbconvert_exporter": "python",
   "pygments_lexer": "ipython3",
   "version": "3.11.6"
  }
 },
 "nbformat": 4,
 "nbformat_minor": 2
}
